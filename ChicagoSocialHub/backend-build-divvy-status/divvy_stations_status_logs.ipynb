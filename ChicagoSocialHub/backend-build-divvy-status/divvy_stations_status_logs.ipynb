{
 "cells": [
  {
   "cell_type": "code",
   "execution_count": null,
   "metadata": {},
   "outputs": [
    {
     "name": "stdout",
     "output_type": "stream",
     "text": [
      "Sent Heartbeat to Divvy Servers and Going to sleep for 125 seconds now ...\n",
      "Sent Heartbeat to Divvy Servers and Going to sleep for 125 seconds now ...\n",
      "Sent Heartbeat to Divvy Servers and Going to sleep for 125 seconds now ...\n",
      "Sent Heartbeat to Divvy Servers and Going to sleep for 125 seconds now ...\n"
     ]
    }
   ],
   "source": [
    "# This script will poll Divvy servers every 2 minutes \n",
    "# and write the data to logstash that will subsequently write the data\n",
    "# to index divvy_stations_logs on ElasticSearch servers\n",
    "# Execute this script from the command line by typing the following:\n",
    "# python divvy_stations_status_logs.py\n",
    "\n",
    "\n",
    "import json\n",
    "import socket\n",
    "import time\n",
    "import urllib.request\n",
    "\n",
    "\n",
    "# specify the port number that we will write into\n",
    "# this should be the same port number that is configured in logstash.conf\n",
    "\n",
    "HOST = \"127.0.0.1\"\n",
    "PORT = 5044\n",
    "\n",
    "try:\n",
    "    sock = socket.socket(socket.AF_INET, socket.SOCK_STREAM)\n",
    "except Exception as e:\n",
    "    print(e)\n",
    "\n",
    "try:\n",
    "    sock.connect((HOST, PORT))\n",
    "except Exception as e:\n",
    "    print(e)\n",
    "\t  \n",
    "\n",
    "while True:\n",
    "    \n",
    "    response = urllib.request.urlopen('https://feeds.divvybikes.com/stations/stations.json')\n",
    "\n",
    "    # Extract the body of the reply\n",
    "    response_body = response.read()\n",
    "\n",
    "    # Decode the format in json format\n",
    "    stations_json = json.loads(response_body.decode(\"utf-8\"))\n",
    "\n",
    "\n",
    "    for stations in stations_json['stationBeanList']: \n",
    "        sock.send(json.dumps(stations).encode('utf-8'))\n",
    "        sock.send(b'\\n')\n",
    "     \n",
    "    \n",
    "  # Sleep for 125 seconds; divvy updates its stations status every 2 minutes\n",
    "    print('Sent Heartbeat to Divvy Servers and Going to sleep for 125 seconds now ...')\n",
    "    time.sleep(125)    \n",
    "    continue\n",
    "\t\n",
    "sock.close()\n"
   ]
  },
  {
   "cell_type": "code",
   "execution_count": null,
   "metadata": {},
   "outputs": [],
   "source": []
  }
 ],
 "metadata": {
  "kernelspec": {
   "display_name": "Python 3",
   "language": "python",
   "name": "python3"
  },
  "language_info": {
   "codemirror_mode": {
    "name": "ipython",
    "version": 3
   },
   "file_extension": ".py",
   "mimetype": "text/x-python",
   "name": "python",
   "nbconvert_exporter": "python",
   "pygments_lexer": "ipython3",
   "version": "3.6.8"
  }
 },
 "nbformat": 4,
 "nbformat_minor": 2
}
